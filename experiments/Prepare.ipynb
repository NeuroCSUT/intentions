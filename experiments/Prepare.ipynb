{
 "cells": [
  {
   "cell_type": "code",
   "execution_count": 1,
   "metadata": {},
   "outputs": [],
   "source": [
    "%load_ext autoreload\n",
    "%autoreload 2"
   ]
  },
  {
   "cell_type": "code",
   "execution_count": 2,
   "metadata": {},
   "outputs": [],
   "source": [
    "import pickle\n",
    "import numpy as np"
   ]
  },
  {
   "cell_type": "markdown",
   "metadata": {},
   "source": [
    "## Load data"
   ]
  },
  {
   "cell_type": "code",
   "execution_count": 3,
   "metadata": {},
   "outputs": [],
   "source": [
    "fp = open(\"coop_navi_128units4real_test_3a.pkl\", \"rb\")\n",
    "data = pickle.load(fp)\n",
    "agent1 = pickle.load(fp)\n",
    "agent2 = pickle.load(fp)\n",
    "agent3 = pickle.load(fp)"
   ]
  },
  {
   "cell_type": "markdown",
   "metadata": {},
   "source": [
    "## Debug data"
   ]
  },
  {
   "cell_type": "code",
   "execution_count": 4,
   "metadata": {},
   "outputs": [
    {
     "name": "stdout",
     "output_type": "stream",
     "text": [
      "Number of episodes: 4000\n",
      "Something something: 1\n",
      "First episode length: 25\n",
      "Number of agents: 3\n",
      "Performance data items: 4\n"
     ]
    }
   ],
   "source": [
    "print(\"Number of episodes:\", len(data))\n",
    "print(\"Something something:\", len(data[0]))\n",
    "print(\"First episode length:\", len(data[0][0]))\n",
    "print(\"Number of agents:\", len(data[0][0][0]))\n",
    "print(\"Performance data items:\", len(data[0][0][0][0]))"
   ]
  },
  {
   "cell_type": "code",
   "execution_count": 5,
   "metadata": {},
   "outputs": [
    {
     "name": "stdout",
     "output_type": "stream",
     "text": [
      "Episode lengths:\n"
     ]
    },
    {
     "data": {
      "text/plain": [
       "[25, 25, 25, 25, 25, 25, 25, 25, 25, 25, 25, 25, 25, 25, 25]"
      ]
     },
     "execution_count": 5,
     "metadata": {},
     "output_type": "execute_result"
    }
   ],
   "source": [
    "print(\"Episode lengths:\")\n",
    "[len(data[i][0]) for i in range(15)]"
   ]
  },
  {
   "cell_type": "code",
   "execution_count": 6,
   "metadata": {},
   "outputs": [
    {
     "name": "stdout",
     "output_type": "stream",
     "text": [
      "Performance data (reward, collisions, min_dists, occupied_landmarks):\n"
     ]
    },
    {
     "data": {
      "text/plain": [
       "[(-1.3654919031820483, 1, 0.3654919031820483, 2),\n",
       " (-1.329316183760786, 1, 0.32931618376078603, 1),\n",
       " (-1.2699935108702554, 1, 0.2699935108702554, 2),\n",
       " (-1.2364959755356626, 1, 0.23649597553566248, 3),\n",
       " (-1.2824834630685653, 1, 0.2824834630685652, 2),\n",
       " (-1.266229279989877, 1, 0.2662292799898771, 2),\n",
       " (-1.755712221145904, 1, 0.755712221145904, 1),\n",
       " (-1.243874810880896, 1, 0.24387481088089585, 3),\n",
       " (-1.1145911359386769, 1, 0.11459113593867691, 3),\n",
       " (-1.1330878114019052, 1, 0.13308781140190526, 3),\n",
       " (-1.2260246046969931, 1, 0.22602460469699315, 2),\n",
       " (-1.2439373507098532, 1, 0.24393735070985315, 2),\n",
       " (-1.2461263348180451, 1, 0.24612633481804502, 3),\n",
       " (-1.3106623353800457, 1, 0.3106623353800457, 1),\n",
       " (-1.4756746241572074, 1, 0.4756746241572075, 1)]"
      ]
     },
     "execution_count": 6,
     "metadata": {},
     "output_type": "execute_result"
    }
   ],
   "source": [
    "print(\"Performance data (reward, collisions, min_dists, occupied_landmarks):\")\n",
    "[data[i][0][-1][0] for i in range(15)]"
   ]
  },
  {
   "cell_type": "code",
   "execution_count": 7,
   "metadata": {},
   "outputs": [
    {
     "name": "stdout",
     "output_type": "stream",
     "text": [
      "Number of steps: 100000\n",
      "Number of datas per step 5\n"
     ]
    }
   ],
   "source": [
    "print(\"Number of steps:\", len(agent1))\n",
    "print(\"Number of datas per step\", len(agent1[0]))"
   ]
  },
  {
   "cell_type": "code",
   "execution_count": 8,
   "metadata": {},
   "outputs": [
    {
     "name": "stdout",
     "output_type": "stream",
     "text": [
      "State: [ 0.          0.         -0.04992221  0.23009745  0.94681212 -1.19442627\n",
      " -0.15955518 -0.13012089  0.80592057 -1.10582529  0.07249372  0.48442981\n",
      "  0.20845996 -0.05406745  0.          0.          0.          0.        ]\n",
      "Action: [1.1770740e-08 1.0069446e-05 4.9464877e-08 1.3934602e-08 9.9998987e-01]\n",
      "Reward: -3.5186466462319896\n",
      "Next state: [-0.81931066 -0.28749222 -0.13185327  0.20134823  1.02874318 -1.16567705\n",
      " -0.07762411 -0.10137167  0.88785163 -1.07707607  0.10612246  0.51154567\n",
      "  0.40478029 -0.0625853   0.          0.          0.          0.        ]\n",
      "Done: 0.0\n"
     ]
    }
   ],
   "source": [
    "print(\"State:\", agent1[0][0])\n",
    "print(\"Action:\", agent1[0][1])\n",
    "print(\"Reward:\", agent1[0][2])\n",
    "print(\"Next state:\", agent1[0][3])\n",
    "print(\"Done:\", agent1[0][4])"
   ]
  },
  {
   "cell_type": "markdown",
   "metadata": {},
   "source": [
    "## Convert states"
   ]
  },
  {
   "cell_type": "code",
   "execution_count": 9,
   "metadata": {},
   "outputs": [
    {
     "name": "stdout",
     "output_type": "stream",
     "text": [
      "State shapes: (4000, 25, 18) (4000, 25, 18) (4000, 25, 18)\n"
     ]
    }
   ],
   "source": [
    "states1 = np.array([agent1[i][0] for i in range(len(agent1))]).reshape((-1, 25, len(agent1[0][0])))\n",
    "states2 = np.array([agent2[i][0] for i in range(len(agent2))]).reshape((-1, 25, len(agent2[0][0])))\n",
    "states3 = np.array([agent3[i][0] for i in range(len(agent3))]).reshape((-1, 25, len(agent3[0][0])))\n",
    "print(\"State shapes:\", states1.shape, states2.shape, states3.shape)"
   ]
  },
  {
   "cell_type": "markdown",
   "metadata": {},
   "source": [
    "## Convert actions"
   ]
  },
  {
   "cell_type": "code",
   "execution_count": 10,
   "metadata": {},
   "outputs": [
    {
     "name": "stdout",
     "output_type": "stream",
     "text": [
      "Action shapes: (4000, 25, 5) (4000, 25, 5) (4000, 25, 5)\n"
     ]
    }
   ],
   "source": [
    "actions1 = np.array([agent1[i][1] for i in range(len(agent1))]).reshape((-1, 25, len(agent1[0][1])))\n",
    "actions2 = np.array([agent2[i][1] for i in range(len(agent2))]).reshape((-1, 25, len(agent2[0][1])))\n",
    "actions3 = np.array([agent3[i][1] for i in range(len(agent3))]).reshape((-1, 25, len(agent3[0][1])))\n",
    "print(\"Action shapes:\", actions1.shape, actions2.shape, actions3.shape)"
   ]
  },
  {
   "cell_type": "markdown",
   "metadata": {},
   "source": [
    "## Convert rewards"
   ]
  },
  {
   "cell_type": "code",
   "execution_count": 11,
   "metadata": {},
   "outputs": [
    {
     "name": "stdout",
     "output_type": "stream",
     "text": [
      "Reward shapes: (4000, 25) (4000, 25) (4000, 25)\n"
     ]
    }
   ],
   "source": [
    "rewards1 = np.array([agent1[i][2] for i in range(len(agent1))]).reshape((-1, 25))\n",
    "rewards2 = np.array([agent2[i][2] for i in range(len(agent2))]).reshape((-1, 25))\n",
    "rewards3 = np.array([agent3[i][2] for i in range(len(agent3))]).reshape((-1, 25))\n",
    "print(\"Reward shapes:\", rewards1.shape, rewards2.shape, rewards3.shape)"
   ]
  },
  {
   "cell_type": "markdown",
   "metadata": {},
   "source": [
    "## Convert collisions"
   ]
  },
  {
   "cell_type": "code",
   "execution_count": 12,
   "metadata": {},
   "outputs": [
    {
     "name": "stdout",
     "output_type": "stream",
     "text": [
      "Collisions shapes: (4000, 25) (4000, 25) (4000, 25)\n"
     ]
    }
   ],
   "source": [
    "# subtract one, because by default collision with agent itself is also counted\n",
    "collisions1 = np.array([[data[i][0][t][0][1] for t in range(len(data[i][0]))] for i in range(len(data))]) - 1\n",
    "collisions2 = np.array([[data[i][0][t][1][1] for t in range(len(data[i][0]))] for i in range(len(data))]) - 1\n",
    "collisions3 = np.array([[data[i][0][t][2][1] for t in range(len(data[i][0]))] for i in range(len(data))]) - 1\n",
    "print(\"Collisions shapes:\", collisions1.shape, collisions2.shape, collisions3.shape)"
   ]
  },
  {
   "cell_type": "markdown",
   "metadata": {},
   "source": [
    "## Debug collisions"
   ]
  },
  {
   "cell_type": "code",
   "execution_count": 13,
   "metadata": {},
   "outputs": [
    {
     "data": {
      "text/plain": [
       "(array([   1,    3,    4,    6,   27,   29,   30,   35,   57,   59,   65,\n",
       "          69,   74,   81,   85,   91,   92,   94,  126,  127,  131,  137,\n",
       "         150,  152,  158,  161,  171,  175,  178,  180,  197,  203,  210,\n",
       "         214,  216,  220,  224,  236,  246,  250,  251,  254,  284,  299,\n",
       "         311,  327,  338,  345,  348,  351,  362,  365,  367,  368,  372,\n",
       "         374,  384,  385,  390,  392,  420,  421,  423,  432,  434,  458,\n",
       "         461,  462,  463,  464,  468,  473,  493,  496,  498,  503,  504,\n",
       "         507,  508,  519,  529,  538,  541,  561,  562,  575,  578,  579,\n",
       "         587,  593,  598,  599,  600,  611,  630,  651,  657,  658,  665,\n",
       "         667,  681,  693,  694,  700,  705,  722,  724,  735,  745,  759,\n",
       "         785,  787,  791,  792,  793,  796,  797,  808,  823,  829,  835,\n",
       "         859,  860,  865,  876,  891,  904,  906,  956,  960,  961,  964,\n",
       "         983,  984,  995,  998, 1007, 1020, 1042, 1050, 1059, 1063, 1065,\n",
       "        1066, 1071, 1076, 1079, 1087, 1090, 1091, 1095, 1123, 1144, 1152,\n",
       "        1158, 1168, 1179, 1197, 1220, 1228, 1230, 1241, 1243, 1252, 1256,\n",
       "        1281, 1297, 1309, 1311, 1335, 1338, 1340, 1351, 1352, 1355, 1360,\n",
       "        1362, 1363, 1377, 1380, 1386, 1389, 1391, 1392, 1395, 1398, 1406,\n",
       "        1417, 1418, 1422, 1424, 1437, 1442, 1443, 1449, 1467, 1471, 1475,\n",
       "        1479, 1483, 1488, 1511, 1522, 1523, 1529, 1530, 1531, 1534, 1537,\n",
       "        1546, 1547, 1549, 1555, 1562, 1572, 1586, 1606, 1608, 1617, 1619,\n",
       "        1624, 1625, 1637, 1638, 1641, 1654, 1657, 1666, 1670, 1680, 1683,\n",
       "        1685, 1695, 1706, 1723, 1738, 1749, 1753, 1761, 1768, 1769, 1778,\n",
       "        1787, 1792, 1806, 1817, 1819, 1854, 1870, 1871, 1891, 1896, 1900,\n",
       "        1908, 1916, 1926, 1942, 1964, 1969, 1972, 1974, 1975, 1989, 2002,\n",
       "        2008, 2017, 2024, 2033, 2042, 2050, 2067, 2068, 2070, 2074, 2077,\n",
       "        2078, 2088, 2099, 2101, 2103, 2116, 2126, 2132, 2133, 2150, 2153,\n",
       "        2160, 2172, 2181, 2185, 2209, 2211, 2212, 2218, 2231, 2235, 2241,\n",
       "        2246, 2275, 2281, 2295, 2297, 2305, 2310, 2316, 2328, 2346, 2350,\n",
       "        2351, 2359, 2371, 2388, 2403, 2410, 2432, 2433, 2437, 2444, 2448,\n",
       "        2462, 2467, 2487, 2496, 2501, 2520, 2539, 2553, 2558, 2570, 2571,\n",
       "        2590, 2597, 2610, 2615, 2618, 2619, 2625, 2634, 2654, 2663, 2664,\n",
       "        2666, 2670, 2674, 2676, 2699, 2704, 2710, 2711, 2720, 2727, 2734,\n",
       "        2740, 2746, 2747, 2752, 2759, 2761, 2769, 2771, 2772, 2778, 2789,\n",
       "        2801, 2803, 2804, 2816, 2828, 2829, 2831, 2835, 2838, 2839, 2844,\n",
       "        2847, 2848, 2856, 2860, 2867, 2871, 2896, 2899, 2906, 2908, 2911,\n",
       "        2920, 2935, 2940, 2943, 2947, 2954, 2961, 2966, 2967, 2969, 2975,\n",
       "        2978, 2982, 2988, 2997, 3003, 3015, 3021, 3023, 3029, 3040, 3043,\n",
       "        3058, 3060, 3082, 3091, 3098, 3117, 3119, 3128, 3130, 3132, 3140,\n",
       "        3141, 3146, 3156, 3162, 3171, 3181, 3182, 3183, 3201, 3208, 3215,\n",
       "        3218, 3221, 3229, 3239, 3241, 3251, 3254, 3262, 3266, 3283, 3299,\n",
       "        3309, 3311, 3316, 3328, 3332, 3341, 3344, 3348, 3359, 3366, 3370,\n",
       "        3381, 3385, 3394, 3399, 3406, 3417, 3419, 3423, 3438, 3443, 3458,\n",
       "        3462, 3463, 3483, 3489, 3497, 3506, 3508, 3522, 3523, 3532, 3540,\n",
       "        3546, 3558, 3571, 3581, 3582, 3594, 3595, 3597, 3605, 3636, 3646,\n",
       "        3650, 3656, 3662, 3665, 3677, 3704, 3707, 3722, 3732, 3737, 3744,\n",
       "        3750, 3753, 3756, 3758, 3779, 3781, 3787, 3791, 3793, 3800, 3805,\n",
       "        3811, 3812, 3837, 3849, 3851, 3853, 3885, 3887, 3904, 3905, 3920,\n",
       "        3922, 3929, 3933, 3934, 3948, 3951, 3953, 3954, 3961, 3965, 3967,\n",
       "        3968, 3980]),)"
      ]
     },
     "execution_count": 13,
     "metadata": {},
     "output_type": "execute_result"
    }
   ],
   "source": [
    "np.where(np.sum(collisions1, axis=-1) != np.sum(collisions2, axis=-1))"
   ]
  },
  {
   "cell_type": "code",
   "execution_count": 14,
   "metadata": {},
   "outputs": [
    {
     "data": {
      "text/plain": [
       "(array([   6,   24,   26,   27,   29,   30,   32,   50,   56,   57,   59,\n",
       "          65,   67,   69,   74,   77,   81,   85,   91,   92,   93,  114,\n",
       "         117,  126,  127,  137,  149,  158,  161,  164,  183,  193,  197,\n",
       "         207,  210,  214,  220,  231,  236,  238,  240,  244,  246,  249,\n",
       "         254,  267,  280,  282,  284,  294,  299,  311,  314,  323,  327,\n",
       "         335,  345,  346,  348,  351,  362,  365,  368,  372,  373,  375,\n",
       "         390,  412,  414,  419,  420,  421,  424,  434,  449,  473,  477,\n",
       "         493,  495,  503,  504,  506,  508,  514,  515,  519,  536,  538,\n",
       "         554,  561,  578,  581,  594,  602,  611,  628,  660,  667,  685,\n",
       "         687,  693,  707,  708,  716,  719,  720,  721,  745,  773,  784,\n",
       "         791,  793,  797,  799,  808,  821,  822,  829,  860,  861,  865,\n",
       "         869,  881,  891,  904,  905,  906,  928,  940,  942,  944,  947,\n",
       "         961,  969,  982, 1002, 1004, 1020, 1027, 1030, 1042, 1049, 1050,\n",
       "        1059, 1065, 1066, 1079, 1087, 1090, 1091, 1123, 1126, 1145, 1152,\n",
       "        1168, 1172, 1179, 1192, 1204, 1217, 1219, 1220, 1223, 1224, 1226,\n",
       "        1228, 1230, 1241, 1248, 1256, 1268, 1297, 1309, 1326, 1340, 1352,\n",
       "        1362, 1363, 1365, 1380, 1383, 1386, 1389, 1391, 1442, 1443, 1449,\n",
       "        1471, 1477, 1478, 1480, 1481, 1507, 1519, 1523, 1529, 1534, 1537,\n",
       "        1555, 1559, 1572, 1577, 1606, 1608, 1613, 1615, 1617, 1635, 1638,\n",
       "        1639, 1654, 1662, 1666, 1680, 1694, 1695, 1716, 1753, 1756, 1761,\n",
       "        1769, 1778, 1801, 1803, 1806, 1809, 1817, 1825, 1838, 1865, 1870,\n",
       "        1891, 1893, 1895, 1896, 1906, 1919, 1928, 1942, 1950, 1951, 1969,\n",
       "        1974, 1975, 1983, 1989, 1995, 2005, 2008, 2022, 2033, 2037, 2042,\n",
       "        2067, 2068, 2070, 2078, 2088, 2096, 2101, 2116, 2124, 2126, 2144,\n",
       "        2153, 2154, 2156, 2181, 2193, 2198, 2200, 2209, 2210, 2211, 2218,\n",
       "        2233, 2235, 2237, 2246, 2270, 2275, 2300, 2304, 2310, 2316, 2346,\n",
       "        2351, 2355, 2358, 2359, 2386, 2389, 2403, 2410, 2432, 2433, 2440,\n",
       "        2446, 2447, 2462, 2464, 2484, 2495, 2496, 2501, 2505, 2506, 2508,\n",
       "        2520, 2530, 2542, 2551, 2567, 2570, 2577, 2590, 2598, 2607, 2610,\n",
       "        2617, 2619, 2625, 2631, 2643, 2649, 2654, 2660, 2661, 2663, 2664,\n",
       "        2666, 2668, 2670, 2676, 2699, 2704, 2711, 2718, 2720, 2729, 2734,\n",
       "        2760, 2763, 2769, 2770, 2771, 2789, 2801, 2803, 2811, 2816, 2819,\n",
       "        2822, 2826, 2831, 2838, 2843, 2844, 2847, 2848, 2853, 2867, 2896,\n",
       "        2903, 2904, 2906, 2908, 2911, 2920, 2921, 2932, 2940, 2947, 2964,\n",
       "        2966, 2969, 2978, 2979, 2981, 2997, 3012, 3023, 3027, 3033, 3068,\n",
       "        3071, 3090, 3091, 3128, 3130, 3141, 3150, 3152, 3155, 3167, 3171,\n",
       "        3184, 3192, 3194, 3201, 3202, 3207, 3213, 3215, 3218, 3221, 3226,\n",
       "        3229, 3241, 3250, 3251, 3254, 3260, 3266, 3267, 3290, 3294, 3300,\n",
       "        3316, 3322, 3331, 3332, 3342, 3353, 3354, 3362, 3366, 3387, 3393,\n",
       "        3394, 3398, 3399, 3403, 3408, 3417, 3419, 3422, 3423, 3433, 3438,\n",
       "        3443, 3452, 3457, 3458, 3463, 3464, 3466, 3477, 3494, 3496, 3497,\n",
       "        3500, 3502, 3505, 3506, 3508, 3522, 3523, 3534, 3540, 3546, 3566,\n",
       "        3568, 3574, 3590, 3595, 3597, 3615, 3623, 3646, 3662, 3671, 3676,\n",
       "        3679, 3689, 3692, 3703, 3715, 3722, 3734, 3735, 3737, 3746, 3759,\n",
       "        3767, 3787, 3795, 3797, 3800, 3801, 3805, 3832, 3837, 3844, 3849,\n",
       "        3850, 3853, 3885, 3904, 3909, 3915, 3920, 3922, 3945, 3948, 3950,\n",
       "        3952, 3953, 3954, 3957, 3967, 3968, 3973, 3981, 3989, 3992]),)"
      ]
     },
     "execution_count": 14,
     "metadata": {},
     "output_type": "execute_result"
    }
   ],
   "source": [
    "np.where(np.sum(collisions2, axis=-1) != np.sum(collisions3, axis=-1))"
   ]
  },
  {
   "cell_type": "code",
   "execution_count": 15,
   "metadata": {},
   "outputs": [
    {
     "data": {
      "text/plain": [
       "(array([   1,    3,    4,   24,   26,   32,   35,   50,   56,   65,   67,\n",
       "          77,   91,   93,   94,  114,  117,  126,  131,  149,  150,  152,\n",
       "         164,  171,  175,  178,  180,  183,  193,  203,  207,  216,  224,\n",
       "         231,  238,  240,  244,  249,  250,  251,  267,  280,  282,  294,\n",
       "         314,  323,  335,  338,  346,  367,  373,  374,  375,  384,  385,\n",
       "         392,  412,  414,  419,  423,  424,  432,  449,  458,  461,  462,\n",
       "         463,  464,  468,  473,  477,  495,  496,  498,  506,  507,  508,\n",
       "         514,  515,  529,  536,  538,  541,  554,  562,  575,  579,  581,\n",
       "         587,  593,  594,  598,  599,  600,  602,  628,  630,  651,  657,\n",
       "         658,  660,  665,  681,  685,  687,  694,  700,  705,  707,  708,\n",
       "         716,  719,  720,  721,  722,  724,  735,  759,  773,  784,  785,\n",
       "         787,  792,  796,  799,  821,  822,  823,  835,  859,  861,  869,\n",
       "         876,  881,  905,  928,  940,  942,  944,  947,  956,  960,  964,\n",
       "         969,  982,  983,  984,  995,  998, 1002, 1004, 1007, 1027, 1030,\n",
       "        1049, 1059, 1063, 1071, 1076, 1095, 1126, 1144, 1145, 1158, 1172,\n",
       "        1192, 1197, 1204, 1217, 1219, 1223, 1224, 1226, 1243, 1248, 1252,\n",
       "        1268, 1281, 1311, 1326, 1335, 1338, 1351, 1355, 1360, 1365, 1377,\n",
       "        1383, 1392, 1395, 1398, 1406, 1417, 1418, 1422, 1424, 1437, 1467,\n",
       "        1475, 1477, 1478, 1479, 1480, 1481, 1483, 1488, 1507, 1511, 1519,\n",
       "        1522, 1530, 1531, 1546, 1547, 1549, 1559, 1562, 1577, 1586, 1606,\n",
       "        1613, 1615, 1619, 1624, 1625, 1635, 1637, 1639, 1641, 1657, 1662,\n",
       "        1666, 1670, 1683, 1685, 1694, 1706, 1716, 1723, 1738, 1749, 1756,\n",
       "        1768, 1787, 1792, 1801, 1803, 1809, 1819, 1825, 1838, 1854, 1865,\n",
       "        1871, 1893, 1895, 1900, 1906, 1908, 1916, 1919, 1926, 1928, 1950,\n",
       "        1951, 1964, 1972, 1983, 1995, 2002, 2005, 2017, 2022, 2024, 2037,\n",
       "        2042, 2050, 2074, 2077, 2096, 2099, 2103, 2124, 2132, 2133, 2144,\n",
       "        2150, 2154, 2156, 2160, 2172, 2185, 2193, 2198, 2200, 2210, 2212,\n",
       "        2231, 2233, 2237, 2241, 2246, 2270, 2281, 2295, 2297, 2300, 2304,\n",
       "        2305, 2328, 2350, 2355, 2358, 2359, 2371, 2386, 2388, 2389, 2437,\n",
       "        2440, 2444, 2446, 2447, 2448, 2464, 2467, 2484, 2487, 2495, 2505,\n",
       "        2506, 2508, 2530, 2539, 2542, 2551, 2553, 2558, 2567, 2571, 2577,\n",
       "        2597, 2598, 2607, 2615, 2617, 2618, 2631, 2634, 2643, 2649, 2660,\n",
       "        2661, 2664, 2668, 2670, 2674, 2710, 2718, 2727, 2729, 2740, 2746,\n",
       "        2747, 2752, 2759, 2760, 2761, 2763, 2770, 2772, 2778, 2804, 2811,\n",
       "        2819, 2822, 2826, 2828, 2829, 2835, 2839, 2843, 2853, 2856, 2860,\n",
       "        2871, 2899, 2903, 2904, 2921, 2932, 2935, 2943, 2954, 2961, 2964,\n",
       "        2967, 2975, 2979, 2981, 2982, 2988, 3003, 3012, 3015, 3021, 3023,\n",
       "        3027, 3029, 3033, 3040, 3043, 3058, 3060, 3068, 3071, 3082, 3090,\n",
       "        3098, 3117, 3119, 3132, 3140, 3146, 3150, 3152, 3155, 3156, 3162,\n",
       "        3167, 3181, 3182, 3183, 3184, 3192, 3194, 3202, 3207, 3208, 3213,\n",
       "        3226, 3239, 3250, 3260, 3262, 3267, 3283, 3290, 3294, 3299, 3300,\n",
       "        3309, 3311, 3322, 3328, 3331, 3341, 3342, 3344, 3348, 3353, 3354,\n",
       "        3359, 3362, 3370, 3381, 3385, 3387, 3393, 3398, 3403, 3406, 3408,\n",
       "        3422, 3433, 3452, 3457, 3462, 3464, 3466, 3477, 3483, 3489, 3494,\n",
       "        3496, 3500, 3502, 3505, 3506, 3532, 3534, 3558, 3566, 3568, 3571,\n",
       "        3574, 3581, 3582, 3590, 3594, 3605, 3615, 3623, 3636, 3650, 3656,\n",
       "        3665, 3671, 3676, 3677, 3679, 3689, 3692, 3703, 3704, 3707, 3715,\n",
       "        3732, 3734, 3735, 3744, 3746, 3750, 3753, 3756, 3758, 3759, 3767,\n",
       "        3779, 3781, 3791, 3793, 3795, 3797, 3801, 3811, 3812, 3832, 3844,\n",
       "        3850, 3851, 3887, 3905, 3909, 3915, 3929, 3933, 3934, 3945, 3950,\n",
       "        3951, 3952, 3957, 3961, 3965, 3973, 3980, 3981, 3989, 3992]),)"
      ]
     },
     "execution_count": 15,
     "metadata": {},
     "output_type": "execute_result"
    }
   ],
   "source": [
    "np.where(np.sum(collisions1, axis=-1) != np.sum(collisions3, axis=-1))"
   ]
  },
  {
   "cell_type": "markdown",
   "metadata": {},
   "source": [
    "Conclusion - collisions are tracked separately for each agent. Collisions happen in pairs."
   ]
  },
  {
   "cell_type": "markdown",
   "metadata": {},
   "source": [
    "## Mean collisions per episode"
   ]
  },
  {
   "cell_type": "code",
   "execution_count": 16,
   "metadata": {},
   "outputs": [
    {
     "name": "stdout",
     "output_type": "stream",
     "text": [
      "Histogram of simulatenous number of collisions:\n"
     ]
    },
    {
     "data": {
      "text/plain": [
       "(array([98299,     0,  1696,     0,     5,     0]),\n",
       " array([0, 1, 2, 3, 4, 5, 6]))"
      ]
     },
     "execution_count": 16,
     "metadata": {},
     "output_type": "execute_result"
    }
   ],
   "source": [
    "print(\"Histogram of simulatenous number of collisions:\")\n",
    "np.histogram(collisions1 + collisions2 + collisions3, bins=[0, 1, 2, 3, 4, 5, 6])"
   ]
  },
  {
   "cell_type": "code",
   "execution_count": 17,
   "metadata": {},
   "outputs": [
    {
     "name": "stdout",
     "output_type": "stream",
     "text": [
      "Histogram of collisions per episode:\n"
     ]
    },
    {
     "data": {
      "text/plain": [
       "(array([3205,  332,  304,   58,   40,   21,   16,    6,    6,    1,    4,\n",
       "           1,    2,    2,    0,    1,    1,    0,    0,    0,    0,    0]),\n",
       " array([ 0,  1,  2,  3,  4,  5,  6,  7,  8,  9, 10, 11, 12, 13, 14, 15, 16,\n",
       "        17, 18, 19, 20, 21, 22]))"
      ]
     },
     "execution_count": 17,
     "metadata": {},
     "output_type": "execute_result"
    }
   ],
   "source": [
    "print(\"Histogram of collisions per episode:\")\n",
    "np.histogram(np.sum((collisions1 + collisions2 + collisions3)/2, axis=-1), bins=range(23))"
   ]
  },
  {
   "cell_type": "code",
   "execution_count": 18,
   "metadata": {},
   "outputs": [
    {
     "name": "stdout",
     "output_type": "stream",
     "text": [
      "Mean number of collisions per episode: 0.4265\n"
     ]
    }
   ],
   "source": [
    "# divide sum of collisions by 2, because every collision is counted twice\n",
    "# sum collisions per episode and take mean over episodes\n",
    "print(\"Mean number of collisions per episode:\", np.mean(np.sum((collisions1 + collisions2 + collisions3) / 2, axis=-1)))"
   ]
  },
  {
   "cell_type": "markdown",
   "metadata": {},
   "source": [
    "## Convert occupied"
   ]
  },
  {
   "cell_type": "code",
   "execution_count": 19,
   "metadata": {},
   "outputs": [
    {
     "name": "stdout",
     "output_type": "stream",
     "text": [
      "Occupied shape: (4000,) (4000,) (4000,)\n"
     ]
    }
   ],
   "source": [
    "occupied1 = np.array([data[i][0][-1][0][3] for i in range(len(data))])\n",
    "occupied2 = np.array([data[i][0][-1][1][3] for i in range(len(data))])\n",
    "occupied3 = np.array([data[i][0][-1][2][3] for i in range(len(data))])\n",
    "print(\"Occupied shape:\", occupied1.shape, occupied2.shape, occupied3.shape)"
   ]
  },
  {
   "cell_type": "markdown",
   "metadata": {},
   "source": [
    "## Debug occupied "
   ]
  },
  {
   "cell_type": "code",
   "execution_count": 20,
   "metadata": {},
   "outputs": [
    {
     "name": "stdout",
     "output_type": "stream",
     "text": [
      "0\n",
      "0\n"
     ]
    }
   ],
   "source": [
    "print(np.sum(occupied1 != occupied2))\n",
    "print(np.sum(occupied2 != occupied3))"
   ]
  },
  {
   "cell_type": "markdown",
   "metadata": {},
   "source": [
    "Conclusion - occupied is common over all agents."
   ]
  },
  {
   "cell_type": "code",
   "execution_count": 21,
   "metadata": {},
   "outputs": [
    {
     "name": "stdout",
     "output_type": "stream",
     "text": [
      "Number of episodes, where:\n",
      "- all landmarks are covered 2337\n",
      "- at least 2 landmarks covered 3551\n",
      "- at least 1 landmark covered 3939\n",
      "- zero landmarks covered 61\n"
     ]
    }
   ],
   "source": [
    "print(\"Number of episodes, where:\")\n",
    "print(\"- all landmarks are covered\", np.sum(occupied1 == 3))\n",
    "print(\"- at least 2 landmarks covered\", np.sum(occupied1 >= 2))\n",
    "print(\"- at least 1 landmark covered\", np.sum(occupied1 >= 1))\n",
    "print(\"- zero landmarks covered\", np.sum(occupied1 == 0))"
   ]
  },
  {
   "cell_type": "markdown",
   "metadata": {},
   "source": [
    "## Convert landmarks occupied by agent"
   ]
  },
  {
   "cell_type": "code",
   "execution_count": 22,
   "metadata": {},
   "outputs": [
    {
     "name": "stdout",
     "output_type": "stream",
     "text": [
      "New state shapes: (4000, 25, 18) (4000, 25, 18) (4000, 25, 18)\n"
     ]
    }
   ],
   "source": [
    "new_states1 = np.array([agent1[i][3] for i in range(len(agent1))]).reshape((-1, 25, len(agent1[0][3])))\n",
    "new_states2 = np.array([agent2[i][3] for i in range(len(agent2))]).reshape((-1, 25, len(agent2[0][3])))\n",
    "new_states3 = np.array([agent3[i][3] for i in range(len(agent3))]).reshape((-1, 25, len(agent3[0][3])))\n",
    "print(\"New state shapes:\", states1.shape, states2.shape, states3.shape)"
   ]
  },
  {
   "cell_type": "code",
   "execution_count": 23,
   "metadata": {},
   "outputs": [
    {
     "name": "stdout",
     "output_type": "stream",
     "text": [
      "Landmarks shapes: (4000, 3) (4000, 3) (4000, 3)\n"
     ]
    }
   ],
   "source": [
    "# calculate distance of each agent from each landmark\n",
    "landmarks1 = np.sqrt(np.sum(new_states1[:,-1,4:10].reshape((new_states1.shape[0], 3, 2))**2, axis=-1))\n",
    "landmarks2 = np.sqrt(np.sum(new_states2[:,-1,4:10].reshape((new_states2.shape[0], 3, 2))**2, axis=-1))\n",
    "landmarks3 = np.sqrt(np.sum(new_states3[:,-1,4:10].reshape((new_states3.shape[0], 3, 2))**2, axis=-1))\n",
    "print(\"Landmarks shapes:\", landmarks1.shape, landmarks2.shape, landmarks3.shape)"
   ]
  },
  {
   "cell_type": "markdown",
   "metadata": {},
   "source": [
    "## Debug landmark occupation"
   ]
  },
  {
   "cell_type": "code",
   "execution_count": 24,
   "metadata": {},
   "outputs": [
    {
     "name": "stdout",
     "output_type": "stream",
     "text": [
      "Agent1 covers some landmark: 3421\n",
      "Agent2 covers some landmark: 3421\n",
      "Agent3 covers some landmark: 2964\n"
     ]
    }
   ],
   "source": [
    "print(\"Agent1 covers some landmark:\", np.sum(np.sum(landmarks1 < 0.1, axis=-1) > 0))\n",
    "print(\"Agent2 covers some landmark:\", np.sum(np.sum(landmarks2 < 0.1, axis=-1) > 0))\n",
    "print(\"Agent3 covers some landmark:\", np.sum(np.sum(landmarks3 < 0.1, axis=-1) > 0))"
   ]
  },
  {
   "cell_type": "code",
   "execution_count": 25,
   "metadata": {},
   "outputs": [
    {
     "name": "stdout",
     "output_type": "stream",
     "text": [
      "Agent1 covers more than one landmark: 10\n",
      "Agent2 covers more than one landmark: 9\n",
      "Agent3 covers more than one landmark: 2\n"
     ]
    }
   ],
   "source": [
    "print(\"Agent1 covers more than one landmark:\", np.sum(np.sum(landmarks1 < 0.1, axis=-1) > 1))\n",
    "print(\"Agent2 covers more than one landmark:\", np.sum(np.sum(landmarks2 < 0.1, axis=-1) > 1))\n",
    "print(\"Agent3 covers more than one landmark:\", np.sum(np.sum(landmarks3 < 0.1, axis=-1) > 1))"
   ]
  },
  {
   "cell_type": "code",
   "execution_count": 26,
   "metadata": {},
   "outputs": [
    {
     "name": "stdout",
     "output_type": "stream",
     "text": [
      "All occupied from landmarks: 2337\n",
      "All occupied from perf data: 2337\n",
      "All occupations match: True\n"
     ]
    }
   ],
   "source": [
    "occupied = np.logical_or(np.logical_or(landmarks1 < 0.1, landmarks2 < 0.1), landmarks3 < 0.1)\n",
    "all_occupied = np.all(occupied, axis=-1)\n",
    "print(\"All occupied from landmarks:\", np.sum(all_occupied))\n",
    "print(\"All occupied from perf data:\", np.sum(occupied1 == 3))\n",
    "print(\"All occupations match:\", np.all(all_occupied == (occupied1 == 3)))"
   ]
  },
  {
   "cell_type": "markdown",
   "metadata": {},
   "source": [
    "Our landmark data matches the performance data. Can use landmark data further on."
   ]
  },
  {
   "cell_type": "markdown",
   "metadata": {},
   "source": [
    "## Mean distance from landmark"
   ]
  },
  {
   "cell_type": "code",
   "execution_count": 27,
   "metadata": {},
   "outputs": [
    {
     "name": "stdout",
     "output_type": "stream",
     "text": [
      "Average agent distance from the closest landmark at the end: 0.07030050909155913\n"
     ]
    }
   ],
   "source": [
    "print(\"Average agent distance from the closest landmark at the end:\", \n",
    "      np.mean(np.min(np.stack([landmarks1, landmarks2, landmarks3]), axis=-1)))"
   ]
  },
  {
   "cell_type": "code",
   "execution_count": 28,
   "metadata": {},
   "outputs": [
    {
     "name": "stdout",
     "output_type": "stream",
     "text": [
      "Average agent distance from all landmarks at the end: 0.7267458741249332\n"
     ]
    }
   ],
   "source": [
    "print(\"Average agent distance from all landmarks at the end:\", np.mean(np.concatenate([landmarks1, landmarks2, landmarks3])))"
   ]
  },
  {
   "cell_type": "code",
   "execution_count": 29,
   "metadata": {},
   "outputs": [],
   "source": [
    "all_landmarks1 = np.sqrt(np.sum(new_states1[:,:,4:10].reshape((states1.shape[0], states1.shape[1], 3, 2))**2, axis=-1))\n",
    "all_landmarks2 = np.sqrt(np.sum(new_states2[:,:,4:10].reshape((states2.shape[0], states1.shape[1], 3, 2))**2, axis=-1))\n",
    "all_landmarks3 = np.sqrt(np.sum(new_states3[:,:,4:10].reshape((states3.shape[0], states1.shape[1], 3, 2))**2, axis=-1))"
   ]
  },
  {
   "cell_type": "code",
   "execution_count": 30,
   "metadata": {},
   "outputs": [
    {
     "name": "stdout",
     "output_type": "stream",
     "text": [
      "Average agent distance from the closest landmark over episode: 0.22048922354350506\n"
     ]
    }
   ],
   "source": [
    "print(\"Average agent distance from the closest landmark over episode:\", \n",
    "      np.mean(np.min(np.stack([all_landmarks1, all_landmarks2, all_landmarks3]), axis=-1)))"
   ]
  },
  {
   "cell_type": "code",
   "execution_count": 31,
   "metadata": {},
   "outputs": [
    {
     "name": "stdout",
     "output_type": "stream",
     "text": [
      "Average agent distance from all landmarks over episode: 0.7833622721433872\n"
     ]
    }
   ],
   "source": [
    "print(\"Average agent distance from all landmarks over episode:\", np.mean(np.concatenate([all_landmarks1, all_landmarks2, all_landmarks3])))"
   ]
  },
  {
   "cell_type": "code",
   "execution_count": 32,
   "metadata": {},
   "outputs": [
    {
     "name": "stdout",
     "output_type": "stream",
     "text": [
      "Mean sum of min distances from each landmark to agents: 0.19972429675059744\n"
     ]
    }
   ],
   "source": [
    "print(\"Mean sum of min distances from each landmark to agents:\", np.mean(np.array(data)[:, :, -1, :, 2]))"
   ]
  },
  {
   "cell_type": "code",
   "execution_count": 33,
   "metadata": {},
   "outputs": [
    {
     "name": "stdout",
     "output_type": "stream",
     "text": [
      "The same thing calculated from landmark data 0.19972429675059744\n"
     ]
    }
   ],
   "source": [
    "print(\"The same thing calculated from landmark data\", \n",
    "      np.mean(np.sum(np.min(np.stack([landmarks1, landmarks2, landmarks3]), axis=0), axis=1)))"
   ]
  },
  {
   "cell_type": "markdown",
   "metadata": {},
   "source": [
    "Conclusion - it's not clear how average distance is calculated in Table 2. All numbers I'm getting are substantially below 1.767 they get."
   ]
  },
  {
   "cell_type": "markdown",
   "metadata": {},
   "source": [
    "## Create target values"
   ]
  },
  {
   "cell_type": "code",
   "execution_count": 34,
   "metadata": {},
   "outputs": [
    {
     "name": "stdout",
     "output_type": "stream",
     "text": [
      "Target shapes: (4000, 3) (4000, 3) (4000, 3)\n"
     ]
    }
   ],
   "source": [
    "y1 = landmarks1 < 0.1\n",
    "y2 = landmarks2 < 0.1\n",
    "y3 = landmarks3 < 0.1\n",
    "print(\"Target shapes:\", y1.shape, y2.shape, y3.shape)"
   ]
  },
  {
   "cell_type": "code",
   "execution_count": 35,
   "metadata": {},
   "outputs": [
    {
     "name": "stdout",
     "output_type": "stream",
     "text": [
      "Agent1 covered counts by landmark: [1410   14 2007]\n",
      "Agent2 covered counts by landmark: [  11 2120 1299]\n",
      "Agent3 covered counts by landmark: [1890 1070    6]\n"
     ]
    }
   ],
   "source": [
    "print(\"Agent1 covered counts by landmark:\", np.sum(y1, axis=0))\n",
    "print(\"Agent2 covered counts by landmark:\", np.sum(y2, axis=0))\n",
    "print(\"Agent3 covered counts by landmark:\", np.sum(y3, axis=0))"
   ]
  },
  {
   "cell_type": "code",
   "execution_count": 36,
   "metadata": {},
   "outputs": [
    {
     "name": "stdout",
     "output_type": "stream",
     "text": [
      "When all three landmarks are covered\n",
      "Agent1 covered counts by landmark: [ 723    2 1613]\n",
      "Agent2 covered counts by landmark: [   4 1616  722]\n",
      "Agent3 covered counts by landmark: [1610  719    2]\n"
     ]
    }
   ],
   "source": [
    "idx = (occupied1 == 3)\n",
    "print(\"When all three landmarks are covered\")\n",
    "print(\"Agent1 covered counts by landmark:\", np.sum(y1[idx], axis=0))\n",
    "print(\"Agent2 covered counts by landmark:\", np.sum(y2[idx], axis=0))\n",
    "print(\"Agent3 covered counts by landmark:\", np.sum(y3[idx], axis=0))"
   ]
  },
  {
   "cell_type": "code",
   "execution_count": 37,
   "metadata": {},
   "outputs": [
    {
     "name": "stdout",
     "output_type": "stream",
     "text": [
      "Agent1 covered counts: [ 579 3411   10    0]\n",
      "Agent2 covered counts: [ 579 3412    9    0]\n",
      "Agent3 covered counts: [1036 2962    2    0]\n"
     ]
    }
   ],
   "source": [
    "print(\"Agent1 covered counts:\", np.histogram(np.sum(y1, axis=-1), [0, 1, 2, 3, 4])[0])\n",
    "print(\"Agent2 covered counts:\", np.histogram(np.sum(y2, axis=-1), [0, 1, 2, 3, 4])[0])\n",
    "print(\"Agent3 covered counts:\", np.histogram(np.sum(y3, axis=-1), [0, 1, 2, 3, 4])[0])"
   ]
  },
  {
   "cell_type": "markdown",
   "metadata": {},
   "source": [
    "## Load policy"
   ]
  },
  {
   "cell_type": "code",
   "execution_count": 38,
   "metadata": {},
   "outputs": [],
   "source": [
    "from train import parse_args, make_env, get_trainers\n",
    "import maddpg.common.tf_util as U\n",
    "import tensorflow as tf"
   ]
  },
  {
   "cell_type": "code",
   "execution_count": 41,
   "metadata": {},
   "outputs": [
    {
     "name": "stdout",
     "output_type": "stream",
     "text": [
      "Using good policy maddpg and adv policy maddpg\n",
      "Loading previous state...\n",
      "INFO:tensorflow:Restoring parameters from coop_navi_128units4real_3/policy\n"
     ]
    },
    {
     "data": {
      "text/plain": [
       "<tensorflow.python.training.saver.Saver at 0x7f7417bb1748>"
      ]
     },
     "execution_count": 41,
     "metadata": {},
     "output_type": "execute_result"
    }
   ],
   "source": [
    "arglist = parse_args(['--benchmark', '--deterministic', '--num-units', '128'])\n",
    "\n",
    "tf.reset_default_graph()\n",
    "tf.InteractiveSession().as_default()\n",
    "\n",
    "# Create environment\n",
    "env = make_env('simple_spread', arglist, arglist.benchmark)\n",
    "# Create agent trainers\n",
    "obs_shape_n = [env.observation_space[i].shape for i in range(env.n)]\n",
    "num_adversaries = min(env.n, arglist.num_adversaries)\n",
    "trainers = get_trainers(env, num_adversaries, obs_shape_n, arglist)\n",
    "print('Using good policy {} and adv policy {}'.format(arglist.good_policy, arglist.adv_policy))\n",
    "\n",
    "# Initialize\n",
    "U.initialize()\n",
    "\n",
    "print('Loading previous state...')\n",
    "U.load_state('coop_navi_128units4real_3/policy')"
   ]
  },
  {
   "cell_type": "markdown",
   "metadata": {},
   "source": [
    "## Debug policy"
   ]
  },
  {
   "cell_type": "code",
   "execution_count": 42,
   "metadata": {},
   "outputs": [
    {
     "name": "stdout",
     "output_type": "stream",
     "text": [
      "Predicted actions match saved actions: True\n"
     ]
    }
   ],
   "source": [
    "actions = trainers[0].act(states1[0])\n",
    "print(\"Predicted actions match saved actions:\", np.allclose(actions1[0], actions))\n",
    "assert np.allclose(actions1[0], actions)"
   ]
  },
  {
   "cell_type": "markdown",
   "metadata": {},
   "source": [
    "## Extract hidden states"
   ]
  },
  {
   "cell_type": "code",
   "execution_count": 43,
   "metadata": {},
   "outputs": [
    {
     "name": "stdout",
     "output_type": "stream",
     "text": [
      "Agent1 hidden state shapes: (4000, 25, 128) (4000, 25, 128)\n",
      "Agent2 hidden state shapes: (4000, 25, 128) (4000, 25, 128)\n",
      "Agent3 hidden state shapes: (4000, 25, 128) (4000, 25, 128)\n"
     ]
    }
   ],
   "source": [
    "h1_values = trainers[0].p_debug['h1_values']\n",
    "h2_values = trainers[0].p_debug['h2_values']\n",
    "\n",
    "X1_h1 = np.array([h1_values(states1[i]) for i in range(states1.shape[0])])\n",
    "X1_h2 = np.array([h2_values(states1[i]) for i in range(states1.shape[0])])\n",
    "\n",
    "print(\"Agent1 hidden state shapes:\", X1_h1.shape, X1_h2.shape)\n",
    "\n",
    "h1_values = trainers[1].p_debug['h1_values']\n",
    "h2_values = trainers[1].p_debug['h2_values']\n",
    "\n",
    "X2_h1 = np.array([h1_values(states2[i]) for i in range(states2.shape[0])])\n",
    "X2_h2 = np.array([h2_values(states2[i]) for i in range(states2.shape[0])])\n",
    "\n",
    "print(\"Agent2 hidden state shapes:\", X1_h1.shape, X1_h2.shape)\n",
    "\n",
    "h1_values = trainers[2].p_debug['h1_values']\n",
    "h2_values = trainers[2].p_debug['h2_values']\n",
    "\n",
    "X3_h1 = np.array([h1_values(states3[i]) for i in range(states3.shape[0])])\n",
    "X3_h2 = np.array([h2_values(states3[i]) for i in range(states3.shape[0])])\n",
    "\n",
    "print(\"Agent3 hidden state shapes:\", X1_h1.shape, X1_h2.shape)"
   ]
  },
  {
   "cell_type": "markdown",
   "metadata": {},
   "source": [
    "## Save dataset"
   ]
  },
  {
   "cell_type": "code",
   "execution_count": 44,
   "metadata": {},
   "outputs": [],
   "source": [
    "np.savez_compressed(\"data_128units.npz\",\n",
    "    X1_obs=states1, \n",
    "    X1_h1=X1_h1, \n",
    "    X1_h2=X1_h2,\n",
    "    X1_act=actions1,\n",
    "    X2_obs=states2, \n",
    "    X2_h1=X2_h1, \n",
    "    X2_h2=X2_h2,\n",
    "    X2_act=actions2,\n",
    "    X3_obs=states3, \n",
    "    X3_h1=X3_h1, \n",
    "    X3_h2=X3_h2,\n",
    "    X3_act=actions3,\n",
    "    y1=y1,\n",
    "    y2=y2,\n",
    "    y3=y3,\n",
    ")"
   ]
  },
  {
   "cell_type": "code",
   "execution_count": null,
   "metadata": {},
   "outputs": [],
   "source": []
  }
 ],
 "metadata": {
  "kernelspec": {
   "display_name": "Python 3 (multi)",
   "language": "python",
   "name": "python3"
  },
  "language_info": {
   "codemirror_mode": {
    "name": "ipython",
    "version": 3
   },
   "file_extension": ".py",
   "mimetype": "text/x-python",
   "name": "python",
   "nbconvert_exporter": "python",
   "pygments_lexer": "ipython3",
   "version": "3.6.4"
  }
 },
 "nbformat": 4,
 "nbformat_minor": 2
}
